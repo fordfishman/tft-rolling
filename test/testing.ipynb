{
 "cells": [
  {
   "cell_type": "code",
   "execution_count": 1,
   "metadata": {},
   "outputs": [],
   "source": [
    "import sys\n",
    "import os\n",
    "\n",
    "sys.path.append(os.path.join(os.getcwd(),'../code'))"
   ]
  },
  {
   "cell_type": "code",
   "execution_count": 3,
   "metadata": {},
   "outputs": [
    {
     "name": "stdout",
     "output_type": "stream",
     "text": [
      "{'level': 1, 'dropRatesByTier': [{'cost': 1, 'rate': 100}, {'cost': 2, 'rate': 0}, {'cost': 3, 'rate': 0}, {'cost': 4, 'rate': 0}, {'cost': 5, 'rate': 0}, {'cost': 6, 'rate': 0}]}\n"
     ]
    },
    {
     "data": {
      "text/plain": [
       "[array([100,   0,   0,   0,   0,   0]),\n",
       " array([100,   0,   0,   0,   0,   0]),\n",
       " array([75, 25,  0,  0,  0,  0]),\n",
       " array([55, 30, 15,  0,  0,  0]),\n",
       " array([45, 33, 20,  2,  0,  0]),\n",
       " array([30, 40, 25,  5,  0,  0]),\n",
       " array([19, 30, 40, 10,  1,  0]),\n",
       " array([18, 25, 32, 22,  3,  0]),\n",
       " array([15, 20, 25, 30, 10,  0]),\n",
       " array([ 5, 10, 20, 40, 25,  0]),\n",
       " array([ 1,  2, 12, 50, 35,  0])]"
      ]
     },
     "execution_count": 3,
     "metadata": {},
     "output_type": "execute_result"
    }
   ],
   "source": [
    "from util import load_shop_odds\n",
    "\n",
    "shop = load_shop_odds()\n",
    "shop"
   ]
  },
  {
   "cell_type": "code",
   "execution_count": 4,
   "metadata": {},
   "outputs": [
    {
     "name": "stdout",
     "output_type": "stream",
     "text": [
      "1198\n"
     ]
    }
   ],
   "source": [
    "from Pool import Pool \n",
    "\n",
    "pool = Pool()\n",
    "print(pool.size())\n",
    "\n"
   ]
  },
  {
   "cell_type": "code",
   "execution_count": 5,
   "metadata": {},
   "outputs": [
    {
     "name": "stdout",
     "output_type": "stream",
     "text": [
      "{'level': 1, 'dropRatesByTier': [{'cost': 1, 'rate': 100}, {'cost': 2, 'rate': 0}, {'cost': 3, 'rate': 0}, {'cost': 4, 'rate': 0}, {'cost': 5, 'rate': 0}, {'cost': 6, 'rate': 0}]}\n"
     ]
    },
    {
     "ename": "ValueError",
     "evalue": "probabilities do not sum to 1",
     "output_type": "error",
     "traceback": [
      "\u001b[0;31m---------------------------------------------------------------------------\u001b[0m",
      "\u001b[0;31mValueError\u001b[0m                                Traceback (most recent call last)",
      "Cell \u001b[0;32mIn[5], line 5\u001b[0m\n\u001b[1;32m      1\u001b[0m \u001b[38;5;28;01mfrom\u001b[39;00m \u001b[38;5;21;01mShop\u001b[39;00m \u001b[38;5;28;01mimport\u001b[39;00m Shop\n\u001b[1;32m      3\u001b[0m shop \u001b[38;5;241m=\u001b[39m Shop(\u001b[38;5;241m7\u001b[39m)\n\u001b[0;32m----> 5\u001b[0m shop\u001b[38;5;241m.\u001b[39mfresh_shop(pool)\n\u001b[1;32m      7\u001b[0m pool\u001b[38;5;241m.\u001b[39msize()\n",
      "File \u001b[0;32m~/GitHub/tft-rolling/code/Shop.py:20\u001b[0m, in \u001b[0;36mShop.fresh_shop\u001b[0;34m(self, pool)\u001b[0m\n\u001b[1;32m     15\u001b[0m odds \u001b[38;5;241m=\u001b[39m \u001b[38;5;28mself\u001b[39m\u001b[38;5;241m.\u001b[39modds[\u001b[38;5;28mself\u001b[39m\u001b[38;5;241m.\u001b[39m__level\u001b[38;5;241m-\u001b[39m\u001b[38;5;241m1\u001b[39m] \u001b[38;5;66;03m# level index 1\u001b[39;00m\n\u001b[1;32m     18\u001b[0m \u001b[38;5;28;01mfor\u001b[39;00m i \u001b[38;5;129;01min\u001b[39;00m \u001b[38;5;28mrange\u001b[39m(\u001b[38;5;241m5\u001b[39m):\n\u001b[0;32m---> 20\u001b[0m     cost \u001b[38;5;241m=\u001b[39m np\u001b[38;5;241m.\u001b[39mrandom\u001b[38;5;241m.\u001b[39mchoice(\u001b[38;5;28mrange\u001b[39m(\u001b[38;5;241m1\u001b[39m,\u001b[38;5;241m7\u001b[39m), p\u001b[38;5;241m=\u001b[39modds)\n\u001b[1;32m     22\u001b[0m     \u001b[38;5;28mself\u001b[39m\u001b[38;5;241m.\u001b[39mslots[i] \u001b[38;5;241m=\u001b[39m pool\u001b[38;5;241m.\u001b[39mget_unit(cost)\n\u001b[1;32m     24\u001b[0m \u001b[38;5;28;01mreturn\u001b[39;00m \u001b[38;5;28;01mNone\u001b[39;00m\n",
      "File \u001b[0;32mmtrand.pyx:974\u001b[0m, in \u001b[0;36mnumpy.random.mtrand.RandomState.choice\u001b[0;34m()\u001b[0m\n",
      "\u001b[0;31mValueError\u001b[0m: probabilities do not sum to 1"
     ]
    }
   ],
   "source": [
    "from Shop import Shop\n",
    "\n",
    "shop = Shop(7)\n",
    "\n",
    "shop.fresh_shop(pool)\n",
    "\n",
    "pool.size()\n",
    "\n"
   ]
  },
  {
   "cell_type": "code",
   "execution_count": 5,
   "metadata": {},
   "outputs": [
    {
     "data": {
      "text/plain": [
       "0.07142857142857142"
      ]
     },
     "execution_count": 5,
     "metadata": {},
     "output_type": "execute_result"
    }
   ],
   "source": [
    "from Unit import Unit\n",
    "\n",
    "pool.get_odds(Unit('Violet', 1))"
   ]
  },
  {
   "cell_type": "code",
   "execution_count": 8,
   "metadata": {},
   "outputs": [
    {
     "data": {
      "text/plain": [
       "<Unit.Unit at 0x107aef7d0>"
      ]
     },
     "execution_count": 8,
     "metadata": {},
     "output_type": "execute_result"
    }
   ],
   "source": [
    "pool.get_unit(5)"
   ]
  },
  {
   "cell_type": "code",
   "execution_count": 9,
   "metadata": {},
   "outputs": [
    {
     "data": {
      "text/plain": [
       "0.027155172413793102"
      ]
     },
     "execution_count": 9,
     "metadata": {},
     "output_type": "execute_result"
    }
   ],
   "source": [
    "shop.get_odds(Unit('Smeech', 3), pool)"
   ]
  },
  {
   "cell_type": "code",
   "execution_count": 10,
   "metadata": {},
   "outputs": [
    {
     "name": "stdout",
     "output_type": "stream",
     "text": [
      "1081\n",
      "1076\n"
     ]
    }
   ],
   "source": [
    "shop.fresh_shop(pool)\n",
    "print(pool.size())\n",
    "\n",
    "shop.fresh_shop(pool)\n",
    "shop.shop_names()\n",
    "print(pool.size())"
   ]
  },
  {
   "cell_type": "code",
   "execution_count": 11,
   "metadata": {},
   "outputs": [
    {
     "name": "stdout",
     "output_type": "stream",
     "text": [
      "['Kassadin', 'Ryze', \"Kai'Sa\", 'Renekton', 'Vi']\n",
      "1076\n",
      "['Naafiri', 'Fiora', 'Mordekaiser', \"Vel'Koz\", \"Kai'Sa\"]\n",
      "1076\n",
      "['Poppy', 'Quinn', 'Katarina', 'Milio', 'Azir']\n",
      "1076\n"
     ]
    }
   ],
   "source": [
    "shop.refresh_shop(pool)\n",
    "\n",
    "print(shop.shop_names())\n",
    "\n",
    "print(pool.size())\n",
    "\n",
    "shop.refresh_shop(pool)\n",
    "\n",
    "print(shop.shop_names())\n",
    "\n",
    "print(pool.size())\n",
    "\n",
    "shop.refresh_shop(pool)\n",
    "\n",
    "print(shop.shop_names())\n",
    "\n",
    "print(pool.size())"
   ]
  },
  {
   "cell_type": "code",
   "execution_count": 15,
   "metadata": {},
   "outputs": [
    {
     "data": {
      "text/plain": [
       "229"
      ]
     },
     "execution_count": 15,
     "metadata": {},
     "output_type": "execute_result"
    }
   ],
   "source": [
    "pool.size(3)"
   ]
  },
  {
   "cell_type": "code",
   "execution_count": 37,
   "metadata": {},
   "outputs": [
    {
     "name": "stdout",
     "output_type": "stream",
     "text": [
      "[0.020072992700729927, 0.01838235294117647, 0.016666666666666666]\n",
      "[49.81818181818182, 54.4, 60.0]\n",
      "164.21818181818182\n",
      "32.843636363636364\n"
     ]
    }
   ],
   "source": [
    "from util import number_shops\n",
    "\n",
    "number_shops(Unit(\"Corki\",4), nteam=0, npool=pool.size(4)-5, nother=1, star=2,level=8)"
   ]
  }
 ],
 "metadata": {
  "kernelspec": {
   "display_name": "tft",
   "language": "python",
   "name": "python3"
  },
  "language_info": {
   "codemirror_mode": {
    "name": "ipython",
    "version": 3
   },
   "file_extension": ".py",
   "mimetype": "text/x-python",
   "name": "python",
   "nbconvert_exporter": "python",
   "pygments_lexer": "ipython3",
   "version": "3.11.4"
  },
  "orig_nbformat": 4
 },
 "nbformat": 4,
 "nbformat_minor": 2
}
