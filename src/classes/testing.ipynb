{
 "cells": [
  {
   "cell_type": "code",
   "execution_count": 12,
   "metadata": {},
   "outputs": [],
   "source": [
    "import sys\n",
    "import os\n",
    "\n",
    "sys.path.append(os.path.join(os.getcwd(),'../code/src/classes'))"
   ]
  },
  {
   "cell_type": "code",
   "execution_count": null,
   "metadata": {},
   "outputs": [
    {
     "data": {
      "text/plain": [
       "2"
      ]
     },
     "execution_count": 7,
     "metadata": {},
     "output_type": "execute_result"
    }
   ],
   "source": [
    "import numpy as np\n",
    "from util import load_shop_odds\n",
    "\n",
    "shop = load_shop_odds()\n",
    "# np.sum(shop[1])\n",
    "shop_7 = shop[7]\n",
    "np.random.choice(range(1,6), p=shop_7)\n"
   ]
  },
  {
   "cell_type": "code",
   "execution_count": 2,
   "metadata": {},
   "outputs": [
    {
     "name": "stdout",
     "output_type": "stream",
     "text": [
      "{1: ['Singed', 'Amumu', 'Draven', 'Trundle', 'Steb', 'Maddie', 'Powder', 'Violet', 'Vex', 'Darius', 'Irelia', 'Zyra', 'Lux', 'Morgana'], 2: ['Renata Glasc', 'Camille', 'Akali', 'Sett', 'Rell', 'Vladimir', 'Ziggs', 'Vander', 'Zeri', 'Nocturne', 'Leona', 'Tristana', 'Urgot'], 4: ['Silco', 'Vi', 'Ekko', 'Dr. Mundo', 'Twitch', 'Illaoi', 'Elise', 'Heimerdinger', 'Corki', 'Garen', 'Ambessa', 'Zoe'], 3: ['Blitzcrank', 'Ezreal', 'Cassiopeia', 'Smeech', 'Renni', 'Loris', 'Scar', 'Nunu & Willump', 'Nami', 'Gangplank', \"Kog'Maw\", 'Twisted Fate', 'Swain'], 5: ['Caitlyn', 'Malzahar', 'LeBlanc', 'Jayce', 'Rumble', 'Sevika', 'Jinx', 'Mordekaiser'], 6: ['Viktor', 'Mel', 'Warwick']}\n"
     ]
    }
   ],
   "source": [
    "from util import load_units\n",
    "units = load_units()\n",
    "print(units)"
   ]
  },
  {
   "cell_type": "code",
   "execution_count": 5,
   "metadata": {},
   "outputs": [],
   "source": [
    "import requests\n",
    "import json\n",
    "\n",
    "url = 'https://raw.communitydragon.org/latest/cdragon/tft/en_us.json'\n",
    "\n",
    "r = requests.get(url)\n",
    "\n",
    "data = json.loads(r.text)"
   ]
  },
  {
   "cell_type": "code",
   "execution_count": null,
   "metadata": {},
   "outputs": [
    {
     "ename": "KeyError",
     "evalue": "'14'",
     "output_type": "error",
     "traceback": [
      "\u001b[0;31m---------------------------------------------------------------------------\u001b[0m",
      "\u001b[0;31mKeyError\u001b[0m                                  Traceback (most recent call last)",
      "Cell \u001b[0;32mIn[8], line 1\u001b[0m\n\u001b[0;32m----> 1\u001b[0m data[\u001b[38;5;124m'\u001b[39m\u001b[38;5;124msets\u001b[39m\u001b[38;5;124m'\u001b[39m][\u001b[38;5;124m'\u001b[39m\u001b[38;5;124m14\u001b[39m\u001b[38;5;124m'\u001b[39m]\n",
      "\u001b[0;31mKeyError\u001b[0m: '14'"
     ]
    }
   ],
   "source": []
  },
  {
   "cell_type": "code",
   "execution_count": 5,
   "metadata": {},
   "outputs": [
    {
     "data": {
      "text/plain": [
       "1193"
      ]
     },
     "execution_count": 5,
     "metadata": {},
     "output_type": "execute_result"
    }
   ],
   "source": [
    "from Shop import Shop\n",
    "\n",
    "shop = Shop(7)\n",
    "\n",
    "shop.fresh_shop(pool)\n",
    "\n",
    "pool.size()\n",
    "\n"
   ]
  },
  {
   "cell_type": "code",
   "execution_count": 6,
   "metadata": {},
   "outputs": [
    {
     "data": {
      "text/plain": [
       "0.07159904534606205"
      ]
     },
     "execution_count": 6,
     "metadata": {},
     "output_type": "execute_result"
    }
   ],
   "source": [
    "from Unit import Unit\n",
    "\n",
    "pool.get_odds(Unit('Violet', 1))"
   ]
  },
  {
   "cell_type": "code",
   "execution_count": 7,
   "metadata": {},
   "outputs": [
    {
     "data": {
      "text/plain": [
       "<Unit.Unit at 0x12c2b2b10>"
      ]
     },
     "execution_count": 7,
     "metadata": {},
     "output_type": "execute_result"
    }
   ],
   "source": [
    "pool.get_unit(5)"
   ]
  },
  {
   "cell_type": "code",
   "execution_count": 8,
   "metadata": {},
   "outputs": [
    {
     "data": {
      "text/plain": [
       "0.031034482758620693"
      ]
     },
     "execution_count": 8,
     "metadata": {},
     "output_type": "execute_result"
    }
   ],
   "source": [
    "shop.get_odds(Unit('Smeech', 3), pool)"
   ]
  },
  {
   "cell_type": "code",
   "execution_count": 9,
   "metadata": {},
   "outputs": [
    {
     "name": "stdout",
     "output_type": "stream",
     "text": [
      "1187\n",
      "1182\n"
     ]
    }
   ],
   "source": [
    "shop.fresh_shop(pool)\n",
    "print(pool.size())\n",
    "\n",
    "shop.fresh_shop(pool)\n",
    "shop.shop_names()\n",
    "print(pool.size())"
   ]
  },
  {
   "cell_type": "code",
   "execution_count": 10,
   "metadata": {},
   "outputs": [
    {
     "name": "stdout",
     "output_type": "stream",
     "text": [
      "['Darius', 'Gangplank', 'Akali', 'Nunu & Willump', 'Steb']\n",
      "1182\n",
      "['Loris', 'Twisted Fate', \"Kog'Maw\", 'Zoe', 'Cassiopeia']\n",
      "1182\n",
      "['Ziggs', 'Gangplank', 'Camille', 'Ezreal', 'Sett']\n",
      "1182\n"
     ]
    }
   ],
   "source": [
    "shop.refresh_shop(pool)\n",
    "\n",
    "print(shop.shop_names())\n",
    "\n",
    "print(pool.size())\n",
    "\n",
    "shop.refresh_shop(pool)\n",
    "\n",
    "print(shop.shop_names())\n",
    "\n",
    "print(pool.size())\n",
    "\n",
    "shop.refresh_shop(pool)\n",
    "\n",
    "print(shop.shop_names())\n",
    "\n",
    "print(pool.size())"
   ]
  },
  {
   "cell_type": "code",
   "execution_count": 11,
   "metadata": {},
   "outputs": [
    {
     "data": {
      "text/plain": [
       "229"
      ]
     },
     "execution_count": 11,
     "metadata": {},
     "output_type": "execute_result"
    }
   ],
   "source": [
    "pool.size(3)"
   ]
  },
  {
   "cell_type": "code",
   "execution_count": 22,
   "metadata": {},
   "outputs": [
    {
     "name": "stdout",
     "output_type": "stream",
     "text": [
      "Probability per shop slot for hitting 1 Jinxs per: \n",
      "[0.004029850746268657]\n",
      "Expected number of shop slots to hit 1 Jinxs per: \n",
      "[248.14814814814815]\n",
      "Expected total number of shop slots to hit 1 Jinxs: \n",
      "248.14814814814815\n",
      "Expected total number of shops to hit 1 Jinxs: \n",
      "49.62962962962963\n"
     ]
    },
    {
     "data": {
      "text/plain": [
       "[248.14814814814815]"
      ]
     },
     "execution_count": 22,
     "metadata": {},
     "output_type": "execute_result"
    }
   ],
   "source": [
    "from util import number_shops\n",
    "\n",
    "number_shops(Unit(\"Jinx\",5), nteam=0, npool=pool.size(5)-4, nother=0, star=1,level=8, shop=shop)"
   ]
  },
  {
   "cell_type": "code",
   "execution_count": 7,
   "metadata": {},
   "outputs": [
    {
     "data": {
      "text/plain": [
       "1"
      ]
     },
     "execution_count": 7,
     "metadata": {},
     "output_type": "execute_result"
    }
   ],
   "source": [
    "nteam = 2\n",
    "\n",
    "n_needed = 3 - nteam % 3\n",
    "n_needed"
   ]
  },
  {
   "cell_type": "code",
   "execution_count": null,
   "metadata": {},
   "outputs": [],
   "source": []
  }
 ],
 "metadata": {
  "kernelspec": {
   "display_name": "tft",
   "language": "python",
   "name": "python3"
  },
  "language_info": {
   "codemirror_mode": {
    "name": "ipython",
    "version": 3
   },
   "file_extension": ".py",
   "mimetype": "text/x-python",
   "name": "python",
   "nbconvert_exporter": "python",
   "pygments_lexer": "ipython3",
   "version": "3.11.11"
  },
  "orig_nbformat": 4
 },
 "nbformat": 4,
 "nbformat_minor": 2
}
