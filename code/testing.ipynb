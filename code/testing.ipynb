{
 "cells": [
  {
   "cell_type": "code",
   "execution_count": 1,
   "metadata": {},
   "outputs": [
    {
     "name": "stdout",
     "output_type": "stream",
     "text": [
      "12\n",
      "13\n",
      "13\n",
      "12\n",
      "8\n"
     ]
    },
    {
     "data": {
      "text/plain": [
       "58"
      ]
     },
     "execution_count": 1,
     "metadata": {},
     "output_type": "execute_result"
    }
   ],
   "source": [
    "unit_dict = {\n",
    "            1:[\"Cassiopeia\", \"Cho'Gath\", \"Graves\", \"Illaoi\", \"Irelia\", \"Jhin\", \"Kayle\", \"Malzahar\", \"Milio\",  \"Orianna\", \"Poppy\", \"Renekton\"],\n",
    "            2:[\"Ashe\", \"Galio\", \"Jinx\", \"Kassadin\", \"Naafiri\", \"Qiyana\", \"Sett\", \"Soraka\", \"Swain\", \"Taliyah\", \"Twisted Fate\", \"Vi\", \"Warwick\"],\n",
    "            3:[\"Darius\", \"Ekko\",  \"Jayce\",  \"Karma\", \"Katarina\", \"Miss Fortune\", \"Nautilus\", \"Neeko\", \"Quinn\", \"Rek'Sai\", \"Sona\", \"Taric\", \"Vel'Koz\"],\n",
    "            4:[\"Aphelios\", \"Azir\", \"Fiora\", \"Jarvan IV\", \"Kai'Sa\", \"Mordekaiser\", \"Nasus\", \"Nilah\", \"Sejuani\", \"Shen\", \"Silco\", \"Xayah\"],\n",
    "            5:[\"Aatrox\", \"Ahri\", \"Bel'veth\", \"Gangplank\", \"Heimerdinger\", \"K'Sante\", \"Ryze\", \"Sion\"]}\n",
    "\n",
    "total = 0\n",
    "\n",
    "for cost in unit_dict.values():\n",
    "    print(len(cost))\n",
    "    total += len(cost)\n",
    "\n",
    "total"
   ]
  },
  {
   "cell_type": "code",
   "execution_count": 2,
   "metadata": {},
   "outputs": [],
   "source": [
    "from Unit import Unit\n",
    "ones = []\n",
    "\n",
    "for i in range(29):\n",
    "    ones += [Unit(unit_name, cost=1) for unit_name in unit_dict[1]] "
   ]
  },
  {
   "cell_type": "code",
   "execution_count": 3,
   "metadata": {},
   "outputs": [],
   "source": [
    "ones, twos, threes, fours, fives = ([] for i in range(5))"
   ]
  },
  {
   "cell_type": "code",
   "execution_count": 4,
   "metadata": {},
   "outputs": [
    {
     "data": {
      "text/plain": [
       "1"
      ]
     },
     "execution_count": 4,
     "metadata": {},
     "output_type": "execute_result"
    }
   ],
   "source": [
    "import numpy as np\n",
    "\n",
    "np.random.choice([1,2,3])"
   ]
  },
  {
   "cell_type": "code",
   "execution_count": 5,
   "metadata": {},
   "outputs": [
    {
     "name": "stdout",
     "output_type": "stream",
     "text": [
      "1092\n"
     ]
    }
   ],
   "source": [
    "from Pool import Pool \n",
    "\n",
    "pool = Pool()\n",
    "print(pool.size())\n",
    "\n"
   ]
  },
  {
   "cell_type": "code",
   "execution_count": 6,
   "metadata": {},
   "outputs": [
    {
     "data": {
      "text/plain": [
       "1087"
      ]
     },
     "execution_count": 6,
     "metadata": {},
     "output_type": "execute_result"
    }
   ],
   "source": [
    "from Shop import Shop\n",
    "\n",
    "shop = Shop(7)\n",
    "\n",
    "shop.fresh_shop(pool)\n",
    "\n",
    "pool.size()\n",
    "\n"
   ]
  },
  {
   "cell_type": "code",
   "execution_count": 7,
   "metadata": {},
   "outputs": [
    {
     "data": {
      "text/plain": [
       "0.08357348703170028"
      ]
     },
     "execution_count": 7,
     "metadata": {},
     "output_type": "execute_result"
    }
   ],
   "source": [
    "pool.get_odds(Unit('Milio', 1))"
   ]
  },
  {
   "cell_type": "code",
   "execution_count": 8,
   "metadata": {},
   "outputs": [
    {
     "data": {
      "text/plain": [
       "<Unit.Unit at 0x107aef7d0>"
      ]
     },
     "execution_count": 8,
     "metadata": {},
     "output_type": "execute_result"
    }
   ],
   "source": [
    "pool.get_unit(5)"
   ]
  },
  {
   "cell_type": "code",
   "execution_count": 9,
   "metadata": {},
   "outputs": [
    {
     "data": {
      "text/plain": [
       "0.027155172413793102"
      ]
     },
     "execution_count": 9,
     "metadata": {},
     "output_type": "execute_result"
    }
   ],
   "source": [
    "shop.get_odds(Unit('Darius', 3), pool)"
   ]
  },
  {
   "cell_type": "code",
   "execution_count": 10,
   "metadata": {},
   "outputs": [
    {
     "name": "stdout",
     "output_type": "stream",
     "text": [
      "1081\n",
      "1076\n"
     ]
    }
   ],
   "source": [
    "shop.fresh_shop(pool)\n",
    "print(pool.size())\n",
    "\n",
    "shop.fresh_shop(pool)\n",
    "shop.shop_names()\n",
    "print(pool.size())"
   ]
  },
  {
   "cell_type": "code",
   "execution_count": 11,
   "metadata": {},
   "outputs": [
    {
     "name": "stdout",
     "output_type": "stream",
     "text": [
      "['Kassadin', 'Ryze', \"Kai'Sa\", 'Renekton', 'Vi']\n",
      "1076\n",
      "['Naafiri', 'Fiora', 'Mordekaiser', \"Vel'Koz\", \"Kai'Sa\"]\n",
      "1076\n",
      "['Poppy', 'Quinn', 'Katarina', 'Milio', 'Azir']\n",
      "1076\n"
     ]
    }
   ],
   "source": [
    "shop.refresh_shop(pool)\n",
    "\n",
    "print(shop.shop_names())\n",
    "\n",
    "print(pool.size())\n",
    "\n",
    "shop.refresh_shop(pool)\n",
    "\n",
    "print(shop.shop_names())\n",
    "\n",
    "print(pool.size())\n",
    "\n",
    "shop.refresh_shop(pool)\n",
    "\n",
    "print(shop.shop_names())\n",
    "\n",
    "print(pool.size())"
   ]
  },
  {
   "cell_type": "code",
   "execution_count": 15,
   "metadata": {},
   "outputs": [
    {
     "data": {
      "text/plain": [
       "229"
      ]
     },
     "execution_count": 15,
     "metadata": {},
     "output_type": "execute_result"
    }
   ],
   "source": [
    "pool.size(3)"
   ]
  },
  {
   "cell_type": "code",
   "execution_count": 37,
   "metadata": {},
   "outputs": [
    {
     "name": "stdout",
     "output_type": "stream",
     "text": [
      "[0.020072992700729927, 0.01838235294117647, 0.016666666666666666]\n",
      "[49.81818181818182, 54.4, 60.0]\n",
      "164.21818181818182\n",
      "32.843636363636364\n"
     ]
    }
   ],
   "source": [
    "from util import number_shops\n",
    "\n",
    "number_shops(Unit(\"Fiora\",4), nteam=0, npool=pool.size(4)-5, nother=1, star=2,level=8)"
   ]
  }
 ],
 "metadata": {
  "kernelspec": {
   "display_name": "tft",
   "language": "python",
   "name": "python3"
  },
  "language_info": {
   "codemirror_mode": {
    "name": "ipython",
    "version": 3
   },
   "file_extension": ".py",
   "mimetype": "text/x-python",
   "name": "python",
   "nbconvert_exporter": "python",
   "pygments_lexer": "ipython3",
   "version": "3.11.4"
  },
  "orig_nbformat": 4
 },
 "nbformat": 4,
 "nbformat_minor": 2
}
