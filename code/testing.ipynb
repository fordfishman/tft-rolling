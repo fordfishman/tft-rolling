{
 "cells": [
  {
   "cell_type": "code",
   "execution_count": 1,
   "metadata": {},
   "outputs": [
    {
     "name": "stdout",
     "output_type": "stream",
     "text": [
      "13\n",
      "13\n",
      "13\n",
      "12\n",
      "8\n"
     ]
    },
    {
     "data": {
      "text/plain": [
       "59"
      ]
     },
     "execution_count": 1,
     "metadata": {},
     "output_type": "execute_result"
    }
   ],
   "source": [
    "unit_dict = {\n",
    "            1:[\"Cassiopeia\", \"Cho'Gath\", \"Irelia\", \"Jhin\", \"Kayle\", \"Malzahar\", \"Maokai\", \"Orianna\", \"Poppy\", \"Renekton\", \"Samira\", \"Tristana\", \"Viego\"],\n",
    "            2:[\"Ashe\", \"Galio\", \"Jinx\", \"Kassadin\", \"Kled\", \"Sett\", \"Soraka\", \"Swain\", \"Taliyah\", \"Teemo\", \"Vi\", \"Warwick\", \"Zed\"],\n",
    "            3:[\"Akshan\", \"Darius\", \"Ekko\", \"Garen\", \"Jayce\", \"Kalista\", \"Karma\", \"Katarina\", \"Lissandra\", \"Rek'Sai\", \"Sona\", \"Taric\", \"Vel'Koz\"],\n",
    "            4:[\"Aphelios\", \"Azir\", \"Gwen\", \"Jarvan IV\", \"Kai'Sa\", \"Lux\", \"Nasus\", \"Sejuani\", \"Shen\", \"Urgot\", \"Yasuo\", \"Zeri\"],\n",
    "            5:[\"Aatrox\", \"Ahri\", \"Bel'veth\", \"Heimerdinger\", \"K'Sante\", \"Ryze\", \"Senna\", \"Sion\"]}\n",
    "\n",
    "total = 0\n",
    "\n",
    "for cost in unit_dict.values():\n",
    "    print(len(cost))\n",
    "    total += len(cost)\n",
    "\n",
    "total"
   ]
  },
  {
   "cell_type": "code",
   "execution_count": 2,
   "metadata": {},
   "outputs": [],
   "source": [
    "from Unit import Unit\n",
    "ones = []\n",
    "\n",
    "for i in range(29):\n",
    "    ones += [Unit(unit_name, cost=1) for unit_name in unit_dict[1]] "
   ]
  },
  {
   "cell_type": "code",
   "execution_count": 3,
   "metadata": {},
   "outputs": [],
   "source": [
    "ones, twos, threes, fours, fives = ([] for i in range(5))"
   ]
  },
  {
   "cell_type": "code",
   "execution_count": 4,
   "metadata": {},
   "outputs": [
    {
     "data": {
      "text/plain": [
       "3"
      ]
     },
     "execution_count": 4,
     "metadata": {},
     "output_type": "execute_result"
    }
   ],
   "source": [
    "import numpy as np\n",
    "\n",
    "np.random.choice([1,2,3])"
   ]
  },
  {
   "cell_type": "code",
   "execution_count": 5,
   "metadata": {},
   "outputs": [
    {
     "name": "stdout",
     "output_type": "stream",
     "text": [
      "1121\n"
     ]
    }
   ],
   "source": [
    "from Pool import Pool \n",
    "\n",
    "pool = Pool()\n",
    "print(pool.size())\n",
    "\n"
   ]
  },
  {
   "cell_type": "code",
   "execution_count": 6,
   "metadata": {},
   "outputs": [
    {
     "data": {
      "text/plain": [
       "1116"
      ]
     },
     "execution_count": 6,
     "metadata": {},
     "output_type": "execute_result"
    }
   ],
   "source": [
    "from Shop import Shop\n",
    "\n",
    "shop = Shop(7)\n",
    "\n",
    "shop.fresh_shop(pool)\n",
    "\n",
    "pool.size()\n",
    "\n"
   ]
  },
  {
   "cell_type": "code",
   "execution_count": 7,
   "metadata": {},
   "outputs": [
    {
     "data": {
      "text/plain": [
       "0.07692307692307693"
      ]
     },
     "execution_count": 7,
     "metadata": {},
     "output_type": "execute_result"
    }
   ],
   "source": [
    "pool.get_odds(Unit('Tristana', 1))"
   ]
  },
  {
   "cell_type": "code",
   "execution_count": 14,
   "metadata": {},
   "outputs": [
    {
     "data": {
      "text/plain": [
       "<Unit.Unit at 0x7fba78133650>"
      ]
     },
     "execution_count": 14,
     "metadata": {},
     "output_type": "execute_result"
    }
   ],
   "source": [
    "pool.get_unit(5)"
   ]
  },
  {
   "cell_type": "code",
   "execution_count": 17,
   "metadata": {},
   "outputs": [
    {
     "data": {
      "text/plain": [
       "0.02787610619469026"
      ]
     },
     "execution_count": 17,
     "metadata": {},
     "output_type": "execute_result"
    }
   ],
   "source": [
    "shop.get_odds(Unit('Darius', 3), pool)"
   ]
  },
  {
   "cell_type": "code",
   "execution_count": 11,
   "metadata": {},
   "outputs": [
    {
     "data": {
      "text/plain": [
       "['Cassiopeia',\n",
       " \"Cho'Gath\",\n",
       " 'Irelia',\n",
       " 'Jhin',\n",
       " 'Kayle',\n",
       " 'Malzahar',\n",
       " 'Maokai',\n",
       " 'Orianna',\n",
       " 'Poppy',\n",
       " 'Renekton',\n",
       " 'Samira',\n",
       " 'Tristana',\n",
       " 'Viego']"
      ]
     },
     "execution_count": 11,
     "metadata": {},
     "output_type": "execute_result"
    }
   ],
   "source": [
    "[\"Cassiopeia\", \"Cho'Gath\", \"Irelia\", \"Jhin\", \"Kayle\", \"Malzahar\", \"Maokai\", \"Orianna\", \"Poppy\", \"Renekton\", \"Samira\", \"Tristana\", \"Viego\"]"
   ]
  },
  {
   "cell_type": "code",
   "execution_count": 12,
   "metadata": {},
   "outputs": [
    {
     "name": "stdout",
     "output_type": "stream",
     "text": [
      "1110\n",
      "1105\n"
     ]
    }
   ],
   "source": [
    "shop.fresh_shop(pool)\n",
    "print(pool.size())\n",
    "\n",
    "shop.fresh_shop(pool)\n",
    "shop.shop_names()\n",
    "print(pool.size())"
   ]
  },
  {
   "cell_type": "code",
   "execution_count": 13,
   "metadata": {},
   "outputs": [
    {
     "name": "stdout",
     "output_type": "stream",
     "text": [
      "['Teemo', 'Vi', 'Lux', 'Samira', \"Cho'Gath\"]\n",
      "1105\n",
      "['Renekton', 'Yasuo', 'Taric', 'Swain', 'Gwen']\n",
      "1105\n",
      "[\"Rek'Sai\", 'Kassadin', 'Karma', 'Cassiopeia', 'Kassadin']\n",
      "1105\n"
     ]
    }
   ],
   "source": [
    "shop.refresh_shop(pool)\n",
    "\n",
    "print(shop.shop_names())\n",
    "\n",
    "print(pool.size())\n",
    "\n",
    "shop.refresh_shop(pool)\n",
    "\n",
    "print(shop.shop_names())\n",
    "\n",
    "print(pool.size())\n",
    "\n",
    "shop.refresh_shop(pool)\n",
    "\n",
    "print(shop.shop_names())\n",
    "\n",
    "print(pool.size())"
   ]
  }
 ],
 "metadata": {
  "kernelspec": {
   "display_name": "tft",
   "language": "python",
   "name": "python3"
  },
  "language_info": {
   "codemirror_mode": {
    "name": "ipython",
    "version": 3
   },
   "file_extension": ".py",
   "mimetype": "text/x-python",
   "name": "python",
   "nbconvert_exporter": "python",
   "pygments_lexer": "ipython3",
   "version": "3.11.4"
  },
  "orig_nbformat": 4
 },
 "nbformat": 4,
 "nbformat_minor": 2
}
