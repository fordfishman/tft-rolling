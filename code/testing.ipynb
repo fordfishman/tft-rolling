{
 "cells": [
  {
   "cell_type": "code",
   "execution_count": 1,
   "metadata": {},
   "outputs": [
    {
     "name": "stdout",
     "output_type": "stream",
     "text": [
      "{'level': 1, 'dropRatesByTier': [{'cost': 1, 'rate': 100}, {'cost': 2, 'rate': 0}, {'cost': 3, 'rate': 0}, {'cost': 4, 'rate': 0}, {'cost': 5, 'rate': 0}, {'cost': 6, 'rate': 0}]}\n"
     ]
    },
    {
     "data": {
      "text/plain": [
       "[array([100,   0,   0,   0,   0,   0]),\n",
       " array([100,   0,   0,   0,   0,   0]),\n",
       " array([75, 25,  0,  0,  0,  0]),\n",
       " array([55, 30, 15,  0,  0,  0]),\n",
       " array([45, 33, 20,  2,  0,  0]),\n",
       " array([30, 40, 25,  5,  0,  0]),\n",
       " array([19, 30, 40, 10,  1,  0]),\n",
       " array([18, 25, 32, 22,  3,  0]),\n",
       " array([15, 20, 25, 30, 10,  0]),\n",
       " array([ 5, 10, 20, 40, 25,  0]),\n",
       " array([ 1,  2, 12, 50, 35,  0])]"
      ]
     },
     "execution_count": 1,
     "metadata": {},
     "output_type": "execute_result"
    }
   ],
   "source": [
    "from util import load_shop_odds\n",
    "\n",
    "load_shop_odds()"
   ]
  },
  {
   "cell_type": "code",
   "execution_count": 4,
   "metadata": {},
   "outputs": [
    {
     "data": {
      "text/plain": [
       "1"
      ]
     },
     "execution_count": 4,
     "metadata": {},
     "output_type": "execute_result"
    }
   ],
   "source": [
    "import numpy as np\n",
    "\n",
    "np.random.choice([1,2,3])"
   ]
  },
  {
   "cell_type": "code",
   "execution_count": 5,
   "metadata": {},
   "outputs": [
    {
     "name": "stdout",
     "output_type": "stream",
     "text": [
      "1092\n"
     ]
    }
   ],
   "source": [
    "from Pool import Pool \n",
    "\n",
    "pool = Pool()\n",
    "print(pool.size())\n",
    "\n"
   ]
  },
  {
   "cell_type": "code",
   "execution_count": 6,
   "metadata": {},
   "outputs": [
    {
     "data": {
      "text/plain": [
       "1087"
      ]
     },
     "execution_count": 6,
     "metadata": {},
     "output_type": "execute_result"
    }
   ],
   "source": [
    "from Shop import Shop\n",
    "\n",
    "shop = Shop(7)\n",
    "\n",
    "shop.fresh_shop(pool)\n",
    "\n",
    "pool.size()\n",
    "\n"
   ]
  },
  {
   "cell_type": "code",
   "execution_count": 7,
   "metadata": {},
   "outputs": [
    {
     "data": {
      "text/plain": [
       "0.08357348703170028"
      ]
     },
     "execution_count": 7,
     "metadata": {},
     "output_type": "execute_result"
    }
   ],
   "source": [
    "pool.get_odds(Unit('Milio', 1))"
   ]
  },
  {
   "cell_type": "code",
   "execution_count": 8,
   "metadata": {},
   "outputs": [
    {
     "data": {
      "text/plain": [
       "<Unit.Unit at 0x107aef7d0>"
      ]
     },
     "execution_count": 8,
     "metadata": {},
     "output_type": "execute_result"
    }
   ],
   "source": [
    "pool.get_unit(5)"
   ]
  },
  {
   "cell_type": "code",
   "execution_count": 9,
   "metadata": {},
   "outputs": [
    {
     "data": {
      "text/plain": [
       "0.027155172413793102"
      ]
     },
     "execution_count": 9,
     "metadata": {},
     "output_type": "execute_result"
    }
   ],
   "source": [
    "shop.get_odds(Unit('Darius', 3), pool)"
   ]
  },
  {
   "cell_type": "code",
   "execution_count": 10,
   "metadata": {},
   "outputs": [
    {
     "name": "stdout",
     "output_type": "stream",
     "text": [
      "1081\n",
      "1076\n"
     ]
    }
   ],
   "source": [
    "shop.fresh_shop(pool)\n",
    "print(pool.size())\n",
    "\n",
    "shop.fresh_shop(pool)\n",
    "shop.shop_names()\n",
    "print(pool.size())"
   ]
  },
  {
   "cell_type": "code",
   "execution_count": 11,
   "metadata": {},
   "outputs": [
    {
     "name": "stdout",
     "output_type": "stream",
     "text": [
      "['Kassadin', 'Ryze', \"Kai'Sa\", 'Renekton', 'Vi']\n",
      "1076\n",
      "['Naafiri', 'Fiora', 'Mordekaiser', \"Vel'Koz\", \"Kai'Sa\"]\n",
      "1076\n",
      "['Poppy', 'Quinn', 'Katarina', 'Milio', 'Azir']\n",
      "1076\n"
     ]
    }
   ],
   "source": [
    "shop.refresh_shop(pool)\n",
    "\n",
    "print(shop.shop_names())\n",
    "\n",
    "print(pool.size())\n",
    "\n",
    "shop.refresh_shop(pool)\n",
    "\n",
    "print(shop.shop_names())\n",
    "\n",
    "print(pool.size())\n",
    "\n",
    "shop.refresh_shop(pool)\n",
    "\n",
    "print(shop.shop_names())\n",
    "\n",
    "print(pool.size())"
   ]
  },
  {
   "cell_type": "code",
   "execution_count": 15,
   "metadata": {},
   "outputs": [
    {
     "data": {
      "text/plain": [
       "229"
      ]
     },
     "execution_count": 15,
     "metadata": {},
     "output_type": "execute_result"
    }
   ],
   "source": [
    "pool.size(3)"
   ]
  },
  {
   "cell_type": "code",
   "execution_count": 37,
   "metadata": {},
   "outputs": [
    {
     "name": "stdout",
     "output_type": "stream",
     "text": [
      "[0.020072992700729927, 0.01838235294117647, 0.016666666666666666]\n",
      "[49.81818181818182, 54.4, 60.0]\n",
      "164.21818181818182\n",
      "32.843636363636364\n"
     ]
    }
   ],
   "source": [
    "from util import number_shops\n",
    "\n",
    "number_shops(Unit(\"Fiora\",4), nteam=0, npool=pool.size(4)-5, nother=1, star=2,level=8)"
   ]
  }
 ],
 "metadata": {
  "kernelspec": {
   "display_name": "tft",
   "language": "python",
   "name": "python3"
  },
  "language_info": {
   "codemirror_mode": {
    "name": "ipython",
    "version": 3
   },
   "file_extension": ".py",
   "mimetype": "text/x-python",
   "name": "python",
   "nbconvert_exporter": "python",
   "pygments_lexer": "ipython3",
   "version": "3.11.4"
  },
  "orig_nbformat": 4
 },
 "nbformat": 4,
 "nbformat_minor": 2
}
